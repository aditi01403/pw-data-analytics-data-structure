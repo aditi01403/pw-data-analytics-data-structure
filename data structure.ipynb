{
  "nbformat": 4,
  "nbformat_minor": 0,
  "metadata": {
    "colab": {
      "provenance": []
    },
    "kernelspec": {
      "name": "python3",
      "display_name": "Python 3"
    },
    "language_info": {
      "name": "python"
    }
  },
  "cells": [
    {
      "cell_type": "markdown",
      "source": [
        "QUESTION 1.Discuss string slicing and provide example\n",
        "\n",
        "Answer-String slicing in Python lets you extract parts of a string using indices. Each character in a string has an index, starting from 0 for the first character. The basic syntax for slicing is:"
      ],
      "metadata": {
        "id": "AH-d1OaXl90R"
      }
    },
    {
      "cell_type": "code",
      "source": [
        "\n",
        "s = \"Hello, World!\"\n",
        "\n",
        "# Perform slicing\n",
        "print(s[0:5])\n",
        "print(s[7:])\n",
        "print(s[::2])\n",
        "print(s[::-1])"
      ],
      "metadata": {
        "colab": {
          "base_uri": "https://localhost:8080/"
        },
        "id": "3umsP2530Yf7",
        "outputId": "b32d1cd3-9149-4a21-dd0f-27f183b9e1df"
      },
      "execution_count": 1,
      "outputs": [
        {
          "output_type": "stream",
          "name": "stdout",
          "text": [
            "Hello\n",
            "World!\n",
            "Hlo ol!\n",
            "!dlroW ,olleH\n"
          ]
        }
      ]
    },
    {
      "cell_type": "markdown",
      "source": [
        "start: Index to begin the slice (inclusive).\n",
        "\n",
        "stop: Index to end the slice (exclusive).\n",
        "\n",
        "\n",
        "Examples\n",
        "\n",
        "1. Basic Slicing"
      ],
      "metadata": {
        "id": "KG1prRslm_Hw"
      }
    },
    {
      "cell_type": "code",
      "source": [
        "\n",
        "text = \"Hello, World!\"\n",
        "print(text[0:5])  # Output: 'Hello'"
      ],
      "metadata": {
        "id": "QJt1e_NInH8V",
        "colab": {
          "base_uri": "https://localhost:8080/"
        },
        "outputId": "0d229fa2-e5a8-41f8-8271-9bb292ef3386"
      },
      "execution_count": null,
      "outputs": [
        {
          "output_type": "stream",
          "name": "stdout",
          "text": [
            "Hello\n"
          ]
        }
      ]
    },
    {
      "cell_type": "markdown",
      "source": [
        "Extracts characters from index 0 to 4.\n",
        "\n",
        "\n",
        "\n",
        "2. Omitting Indices"
      ],
      "metadata": {
        "id": "-k83XR03nO73"
      }
    },
    {
      "cell_type": "code",
      "source": [
        "\n",
        "print(text[:5])  # Output: 'Hello' (from start)\n",
        "print(text[7:])  # Output: 'World!' (to the end)"
      ],
      "metadata": {
        "id": "KrF9bku2nVBW",
        "outputId": "52b363da-8ec0-4a07-dd2d-9aa422a38324",
        "colab": {
          "base_uri": "https://localhost:8080/"
        }
      },
      "execution_count": null,
      "outputs": [
        {
          "output_type": "stream",
          "name": "stdout",
          "text": [
            "Hello\n",
            "World!\n"
          ]
        }
      ]
    },
    {
      "cell_type": "markdown",
      "source": [
        "3. Negative Indices"
      ],
      "metadata": {
        "id": "nATo_jBTnVum"
      }
    },
    {
      "cell_type": "code",
      "source": [
        "print(text[-6:])  # Output: 'World!'"
      ],
      "metadata": {
        "id": "abBWu0yvnbSD"
      },
      "execution_count": null,
      "outputs": []
    },
    {
      "cell_type": "markdown",
      "source": [
        "Negative indices count from the end.\n",
        "\n",
        "\n",
        "\n",
        "4. Reversing a String"
      ],
      "metadata": {
        "id": "BHXfnacmncnJ"
      }
    },
    {
      "cell_type": "code",
      "source": [
        "print(text[::-1])  # Output: '!dlroW ,olleH'"
      ],
      "metadata": {
        "id": "6xAwea9VngMg"
      },
      "execution_count": null,
      "outputs": []
    },
    {
      "cell_type": "markdown",
      "source": [
        "String slicing is a quick way to access and manipulate parts of a string!"
      ],
      "metadata": {
        "id": "y_PwBBVAniQm"
      }
    },
    {
      "cell_type": "markdown",
      "source": [
        "QUESTION  2.Explain the key features of list in Python\n",
        "\n",
        "Answer-In Python, a list is a versatile, ordered collection that can store multiple items. Here are some key features of lists:\n",
        "\n",
        "1. Ordered Collection\n",
        "\n",
        "Items in a list maintain their order, and you can access them using an index starting from 0.\n",
        "\n",
        "Example:"
      ],
      "metadata": {
        "id": "ZyQgn_iWnrrl"
      }
    },
    {
      "cell_type": "code",
      "source": [
        "\n",
        "fruits = ['apple', 'banana', 'cherry']\n",
        "print(fruits[0])  # Output: 'apple'"
      ],
      "metadata": {
        "id": "k1P1gii1oKh9"
      },
      "execution_count": null,
      "outputs": []
    },
    {
      "cell_type": "markdown",
      "source": [
        "2. Mutable\n",
        "\n",
        "Lists are changeable, so you can modify, add, or remove elements after creating them.\n",
        "\n",
        "Example:"
      ],
      "metadata": {
        "id": "Kux4LpCsoOLk"
      }
    },
    {
      "cell_type": "code",
      "source": [
        "\n",
        "fruits[1] = 'orange'\n",
        "print(fruits)  # Output: ['apple', 'orange', 'cherry']"
      ],
      "metadata": {
        "id": "WWhixuaGoVjL"
      },
      "execution_count": null,
      "outputs": []
    },
    {
      "cell_type": "markdown",
      "source": [
        "3. Heterogeneous\n",
        "\n",
        "A list can contain different data types like integers, strings, floats, or even other lists.\n",
        "\n",
        "Example:"
      ],
      "metadata": {
        "id": "bxxczbEToV9H"
      }
    },
    {
      "cell_type": "code",
      "source": [
        "mixed_list = [1, 'hello', 3.14, [2, 4]]"
      ],
      "metadata": {
        "id": "i0HM7_p6oYpn"
      },
      "execution_count": null,
      "outputs": []
    },
    {
      "cell_type": "markdown",
      "source": [
        "4. Dynamic Size\n",
        "\n",
        "Lists can grow or shrink as needed; you can append or remove items.\n",
        "\n",
        "Example:"
      ],
      "metadata": {
        "id": "JSiWum2AoZJ0"
      }
    },
    {
      "cell_type": "code",
      "source": [
        "\n",
        "fruits.append('grape')\n",
        "print(fruits)  # Output: ['apple', 'orange', 'cherry', 'grape']"
      ],
      "metadata": {
        "id": "J_QJif61ocPw"
      },
      "execution_count": null,
      "outputs": []
    },
    {
      "cell_type": "markdown",
      "source": [
        "5. Supports Slicing\n",
        "\n",
        "You can extract portions of a list using slicing.\n",
        "\n",
        "Example:"
      ],
      "metadata": {
        "id": "3sf5nz-noccu"
      }
    },
    {
      "cell_type": "code",
      "source": [
        "print(fruits[1:3])  # Output: ['orange', 'cherry']"
      ],
      "metadata": {
        "id": "Y1OoIDavoi8S"
      },
      "execution_count": null,
      "outputs": []
    },
    {
      "cell_type": "markdown",
      "source": [
        "6. Variety of Built-in Methods\n",
        "\n",
        "Lists come with useful methods like append(), remove(), sort(), reverse(), etc.\n",
        "\n",
        "Example:"
      ],
      "metadata": {
        "id": "skSbUHMDojQt"
      }
    },
    {
      "cell_type": "code",
      "source": [
        "\n",
        "fruits.sort()\n",
        "print(fruits)  # Output: ['apple', 'cherry', 'grape', 'orange']"
      ],
      "metadata": {
        "id": "jUOGa_pGoqfv"
      },
      "execution_count": null,
      "outputs": []
    },
    {
      "cell_type": "markdown",
      "source": [
        "Lists are a fundamental and flexible data structure in Python, perfect for storing collections of items."
      ],
      "metadata": {
        "id": "jS3A9sk9orp6"
      }
    },
    {
      "cell_type": "markdown",
      "source": [
        "QUESTION 3.Describe how to access, modify,and delete elements in a list with examples\n",
        "\n",
        "Answer-In Python, lists are a mutable data structure, which means you can easily access, modify, and delete elements. Here’s a brief guide on how to work with elements in a list:\n",
        "\n",
        "1. Accessing Elements\n",
        "\n",
        "Use indices to access elements in a list. The index starts at 0 for the first element and -1 for the last element."
      ],
      "metadata": {
        "id": "ptQ3FpMFp33j"
      }
    },
    {
      "cell_type": "code",
      "source": [
        "fruits = ['apple', 'banana', 'cherry', 'date']\n",
        "print(fruits[1])   # Output: 'banana'\n",
        "print(fruits[-1])  # Output: 'date' (last element)"
      ],
      "metadata": {
        "id": "jYxe4QSBqtYZ"
      },
      "execution_count": null,
      "outputs": []
    },
    {
      "cell_type": "markdown",
      "source": [
        "2. Modifying Elements\n",
        "\n",
        "Assign a new value to an element using its index."
      ],
      "metadata": {
        "id": "GXYTH7pPquS3"
      }
    },
    {
      "cell_type": "code",
      "source": [
        "\n",
        "fruits[2] = 'orange'\n",
        "print(fruits)  # Output: ['apple', 'banana', 'orange', 'date']"
      ],
      "metadata": {
        "id": "5v9oFBAEq0zo"
      },
      "execution_count": null,
      "outputs": []
    },
    {
      "cell_type": "markdown",
      "source": [
        "You can also modify multiple elements using slicing."
      ],
      "metadata": {
        "id": "s-wjwSQSq1cT"
      }
    },
    {
      "cell_type": "code",
      "source": [
        "\n",
        "fruits[1:3] = ['kiwi', 'grape']\n",
        "print(fruits)  # Output: ['apple', 'kiwi', 'grape', 'date']"
      ],
      "metadata": {
        "id": "QeJb8pEDq6B9"
      },
      "execution_count": null,
      "outputs": []
    },
    {
      "cell_type": "markdown",
      "source": [
        "3. Deleting Elements\n",
        "\n",
        "Use the del keyword to remove an element by its index."
      ],
      "metadata": {
        "id": "USxAUMXBq6p_"
      }
    },
    {
      "cell_type": "code",
      "source": [
        "\n",
        "del fruits[1]\n",
        "print(fruits)  # Output: ['apple', 'grape', 'date']"
      ],
      "metadata": {
        "id": "b9Y160QCq-Ps"
      },
      "execution_count": null,
      "outputs": []
    },
    {
      "cell_type": "markdown",
      "source": [
        "Use the remove() method to delete an element by its value."
      ],
      "metadata": {
        "id": "Ariwo9KyrCG_"
      }
    },
    {
      "cell_type": "code",
      "source": [
        "fruits.remove('grape')\n",
        "print(fruits)  # Output: ['apple', 'date']"
      ],
      "metadata": {
        "id": "9AA7dbefrDw5"
      },
      "execution_count": null,
      "outputs": []
    },
    {
      "cell_type": "markdown",
      "source": [
        "Use pop() to remove an element by index and return it. If no index is specified, it removes the last element."
      ],
      "metadata": {
        "id": "Sxx-X8DerEUC"
      }
    },
    {
      "cell_type": "code",
      "source": [
        "last_fruit = fruits.pop()\n",
        "print(last_fruit)  # Output: 'date'\n",
        "print(fruits)      # Output: ['apple']"
      ],
      "metadata": {
        "id": "4A2SYwcMrPA-"
      },
      "execution_count": null,
      "outputs": []
    },
    {
      "cell_type": "markdown",
      "source": [
        "Use clear() to delete all elements in a list."
      ],
      "metadata": {
        "id": "yNEZ2hlrrPPM"
      }
    },
    {
      "cell_type": "code",
      "source": [
        "fruits.clear()\n",
        "print(fruits)  # Output: []"
      ],
      "metadata": {
        "id": "otgxD6QKrTBz"
      },
      "execution_count": null,
      "outputs": []
    },
    {
      "cell_type": "markdown",
      "source": [
        "These are some basic operations to manipulate elements in a Python list."
      ],
      "metadata": {
        "id": "QyvCBh3wrTOI"
      }
    },
    {
      "cell_type": "markdown",
      "source": [
        "QUESTION 4.Compare and contrast tuples and lest with examples\n",
        "\n",
        "Answer -Tuples and lists are both used to store collections of items in Python. However, they differ in their properties and use cases. Here's a comparison:\n",
        "\n",
        "1. Mutability\n",
        "\n",
        "List: Mutable, meaning elements can be added, removed, or changed."
      ],
      "metadata": {
        "id": "1iTmy2IXrwmy"
      }
    },
    {
      "cell_type": "code",
      "source": [
        "my_list = [1, 2, 3]\n",
        "my_list[1] = 20\n",
        "print(my_list)  # Output: [1, 20, 3]"
      ],
      "metadata": {
        "id": "Rj1Ob73NsxIE"
      },
      "execution_count": null,
      "outputs": []
    },
    {
      "cell_type": "markdown",
      "source": [
        "Tuple: Immutable, meaning once created, elements cannot be modified."
      ],
      "metadata": {
        "id": "0Ps_bMRnsy1s"
      }
    },
    {
      "cell_type": "code",
      "source": [
        "my_tuple = (1, 2, 3)\n",
        "# my_tuple[1] = 20  # This would raise a TypeError\n",
        "print(my_tuple)  # Output: (1, 2, 3)"
      ],
      "metadata": {
        "id": "qH7NRPhIs65w"
      },
      "execution_count": null,
      "outputs": []
    },
    {
      "cell_type": "markdown",
      "source": [
        "2. Syntax\n",
        "\n",
        "List: Defined with square brackets []."
      ],
      "metadata": {
        "id": "u04v8qkqtERu"
      }
    },
    {
      "cell_type": "code",
      "source": [
        "my_list = [1, 2, 3]"
      ],
      "metadata": {
        "id": "_QmTii_qtFgb"
      },
      "execution_count": null,
      "outputs": []
    },
    {
      "cell_type": "markdown",
      "source": [
        "Tuple: Defined with parentheses () or without any brackets (comma-separated values)."
      ],
      "metadata": {
        "id": "JLelQXZTtGRT"
      }
    },
    {
      "cell_type": "code",
      "source": [
        "my_tuple = (1, 2, 3)\n",
        "my_tuple_alt = 1, 2, 3  # Valid tuple"
      ],
      "metadata": {
        "id": "jx_V2dvPtQgf"
      },
      "execution_count": null,
      "outputs": []
    },
    {
      "cell_type": "markdown",
      "source": [
        "3. Performance\n",
        "\n",
        "List: Slower than tuples because of the overhead of mutability.\n",
        "\n",
        "Tuple: Faster due to immutability, making them better for fixed data.\n",
        "\n",
        "\n",
        "\n",
        "---\n",
        "\n",
        "4. Use Cases\n",
        "\n",
        "List: Used when the collection of items is likely to change."
      ],
      "metadata": {
        "id": "Y3i-aZFRtRB5"
      }
    },
    {
      "cell_type": "code",
      "source": [
        "shopping_list = ['apple', 'banana']\n",
        "shopping_list.append('cherry')\n",
        "print(shopping_list)  # Output: ['apple', 'banana', 'cherry']"
      ],
      "metadata": {
        "id": "XR2PkoJZthmG"
      },
      "execution_count": null,
      "outputs": []
    },
    {
      "cell_type": "markdown",
      "source": [
        "Tuple: Used when the collection of items should not change, like representing fixed data."
      ],
      "metadata": {
        "id": "L1t_1B9rtlnc"
      }
    },
    {
      "cell_type": "code",
      "source": [
        "coordinates = (10, 20)\n",
        "print(coordinates)  # Output: (10, 20)"
      ],
      "metadata": {
        "id": "MJhOaaB2tqn4"
      },
      "execution_count": null,
      "outputs": []
    },
    {
      "cell_type": "markdown",
      "source": [
        "5. Methods\n",
        "\n",
        "List: Provides many methods like append(), remove(), pop(), etc., for modifying the list."
      ],
      "metadata": {
        "id": "2voJ1VXdtq2D"
      }
    },
    {
      "cell_type": "code",
      "source": [
        "my_list = [1, 2, 3]\n",
        "my_list.append(4)\n",
        "print(my_list)  # Output: [1, 2, 3, 4]"
      ],
      "metadata": {
        "id": "C1UsUwLltxO3"
      },
      "execution_count": null,
      "outputs": []
    },
    {
      "cell_type": "markdown",
      "source": [
        "Tuple: Provides fewer methods (e.g., count(), index()) since it cannot be modified."
      ],
      "metadata": {
        "id": "DufU1S_7tzi1"
      }
    },
    {
      "cell_type": "code",
      "source": [
        "my_tuple = (1, 2, 2, 3)\n",
        "print(my_tuple.count(2))  # Output: 2\n",
        "print(my_tuple.index(3))  # Output: 3"
      ],
      "metadata": {
        "id": "03uft0qut1lm"
      },
      "execution_count": null,
      "outputs": []
    },
    {
      "cell_type": "markdown",
      "source": [
        "6. Nesting\n",
        "\n",
        "Both can be nested, but the nested lists/tuples will retain their properties."
      ],
      "metadata": {
        "id": "oey5AUxot-kJ"
      }
    },
    {
      "cell_type": "code",
      "source": [
        "nested_list = [[1, 2], [3, 4]]\n",
        "nested_tuple = ((1, 2), (3, 4))"
      ],
      "metadata": {
        "id": "iHV90mhQt_uc"
      },
      "execution_count": null,
      "outputs": []
    },
    {
      "cell_type": "markdown",
      "source": [
        "7. Memory Usage\n",
        "\n",
        "List: Consumes more memory due to its dynamic nature.\n",
        "\n",
        "Tuple: Consumes less memory, making it more efficient for large datasets."
      ],
      "metadata": {
        "id": "PIkaR5quuFdS"
      }
    },
    {
      "cell_type": "markdown",
      "source": [
        "Choose lists for flexibility and tuples for fixed, unchangeable data."
      ],
      "metadata": {
        "id": "OnaKPGEluIov"
      }
    },
    {
      "cell_type": "markdown",
      "source": [
        "QUESTION 5.Describe the key features of sets and provide examples of their use\n",
        "\n",
        "Answer-A set in Python is an unordered collection of unique items. Sets are useful for storing distinct elements and performing operations like union, intersection, and difference. Here’s a quick overview:\n",
        "\n",
        "Key Features of Sets\n",
        "\n",
        "1. Unordered: Sets do not maintain the order of elements."
      ],
      "metadata": {
        "id": "Rh4BPEujvWaW"
      }
    },
    {
      "cell_type": "code",
      "source": [
        "my_set = {3, 1, 4}\n",
        "print(my_set)  # Output: {1, 3, 4} (order may vary)"
      ],
      "metadata": {
        "id": "Rmf7jhXzzX5s"
      },
      "execution_count": null,
      "outputs": []
    },
    {
      "cell_type": "markdown",
      "source": [
        "2. Unique Elements: Sets automatically remove duplicates."
      ],
      "metadata": {
        "id": "psFphLy4zYZX"
      }
    },
    {
      "cell_type": "code",
      "source": [
        "my_set = {1, 2, 2, 3}\n",
        "print(my_set)  # Output: {1, 2, 3}"
      ],
      "metadata": {
        "id": "oC0siaDPzb8g"
      },
      "execution_count": null,
      "outputs": []
    },
    {
      "cell_type": "markdown",
      "source": [
        "3. Mutable: You can add or remove elements, but the elements themselves must be immutable (e.g., numbers, strings)."
      ],
      "metadata": {
        "id": "XTrIQ_tLzcGD"
      }
    },
    {
      "cell_type": "code",
      "source": [
        "my_set = {1, 2, 3}\n",
        "my_set.add(4)\n",
        "print(my_set)  # Output: {1, 2, 3, 4}"
      ],
      "metadata": {
        "id": "rfks-4pdzhwG"
      },
      "execution_count": null,
      "outputs": []
    },
    {
      "cell_type": "markdown",
      "source": [
        "4. No Indexing: Sets do not support indexing or slicing because they are unordered."
      ],
      "metadata": {
        "id": "AHyIRfbjzk6A"
      }
    },
    {
      "cell_type": "code",
      "source": [
        "# my_set[0]  # Raises TypeError"
      ],
      "metadata": {
        "id": "3_6pvupPzpcz"
      },
      "execution_count": null,
      "outputs": []
    },
    {
      "cell_type": "markdown",
      "source": [
        "5. Efficient Membership Testing: Checking if an item exists in a set is faster than in lists."
      ],
      "metadata": {
        "id": "O5sFHZ5-zsa3"
      }
    },
    {
      "cell_type": "code",
      "source": [
        "print(3 in my_set)  # Output: True"
      ],
      "metadata": {
        "id": "Igg58PCpztwD"
      },
      "execution_count": null,
      "outputs": []
    },
    {
      "cell_type": "markdown",
      "source": [
        "6. Supports Set Operations: Perform union, intersection, and difference."
      ],
      "metadata": {
        "id": "NicFWycwzt9h"
      }
    },
    {
      "cell_type": "code",
      "source": [
        "A = {1, 2, 3}\n",
        "B = {3, 4, 5}\n",
        "print(A | B)  # Union: {1, 2, 3, 4, 5}\n",
        "print(A & B)  # Intersection: {3}\n",
        "print(A - B)  # Difference: {1, 2}"
      ],
      "metadata": {
        "id": "lFL8RVOyz2s4"
      },
      "execution_count": null,
      "outputs": []
    },
    {
      "cell_type": "markdown",
      "source": [
        "Examples of Use\n",
        "\n",
        "1. Removing Duplicates from a List"
      ],
      "metadata": {
        "id": "4VVgQIgqz2_K"
      }
    },
    {
      "cell_type": "code",
      "source": [
        "numbers = [1, 2, 2, 3, 4, 4]\n",
        "unique_numbers = set(numbers)\n",
        "print(unique_numbers)  # Output: {1, 2, 3, 4}"
      ],
      "metadata": {
        "id": "ZDyD6b_az7jB"
      },
      "execution_count": null,
      "outputs": []
    },
    {
      "cell_type": "markdown",
      "source": [
        "2. Checking Membership"
      ],
      "metadata": {
        "id": "FUOrnslxz7tz"
      }
    },
    {
      "cell_type": "code",
      "source": [
        "vowels = {'a', 'e', 'i', 'o', 'u'}\n",
        "print('a' in vowels)  # Output: True\n",
        "print('z' in vowels)  # Output: False"
      ],
      "metadata": {
        "id": "NGvQePB1z_r6"
      },
      "execution_count": null,
      "outputs": []
    },
    {
      "cell_type": "markdown",
      "source": [
        "3. Finding Common or Unique Elements"
      ],
      "metadata": {
        "id": "vLT9s06X0Ceh"
      }
    },
    {
      "cell_type": "code",
      "source": [
        "set1 = {1, 2, 3}\n",
        "set2 = {3, 4, 5}\n",
        "print(set1 & set2)  # Intersection: {3}\n",
        "print(set1 - set2)  # Difference: {1, 2}"
      ],
      "metadata": {
        "id": "_jqMzjPk0G0w"
      },
      "execution_count": null,
      "outputs": []
    },
    {
      "cell_type": "markdown",
      "source": [
        "Question 6.Discuss the use cases of tuples and sets in Python programming\n",
        "\n",
        "Answer-Use Cases of Tuples\n",
        "\n",
        "1. Immutable Data: Use tuples for fixed data that should not change."
      ],
      "metadata": {
        "id": "GHZNFHjE0fny"
      }
    },
    {
      "cell_type": "code",
      "source": [
        "coordinates = (10, 20)  # Representing a point"
      ],
      "metadata": {
        "id": "tXaE-0f31zCK"
      },
      "execution_count": null,
      "outputs": []
    },
    {
      "cell_type": "markdown",
      "source": [
        "2. Heterogeneous Data: Tuples can hold mixed types of data, often used to group related values."
      ],
      "metadata": {
        "id": "rPyzj5LU1zKt"
      }
    },
    {
      "cell_type": "code",
      "source": [
        "person = ('John', 30, 'Engineer')  # Name, age, occupation"
      ],
      "metadata": {
        "id": "DBjwKbVM14VD"
      },
      "execution_count": null,
      "outputs": []
    },
    {
      "cell_type": "markdown",
      "source": [
        "3. Keys in Dictionaries: Tuples can be used as dictionary keys since they are immutable."
      ],
      "metadata": {
        "id": "TEGhcK9O18KH"
      }
    },
    {
      "cell_type": "code",
      "source": [
        "locations = {('Paris', 'France'): 'Eiffel Tower'}"
      ],
      "metadata": {
        "id": "4UwL6uTN2A9-"
      },
      "execution_count": null,
      "outputs": []
    },
    {
      "cell_type": "markdown",
      "source": [
        "4. Returning Multiple Values: Functions can return multiple values as tuples."
      ],
      "metadata": {
        "id": "dTyL-DMw2CQJ"
      }
    },
    {
      "cell_type": "code",
      "source": [
        "def stats():\n",
        "    return (20, 30)\n",
        "print(stats())  # Output: (20, 30)"
      ],
      "metadata": {
        "id": "2c2AdhSK2EMx"
      },
      "execution_count": null,
      "outputs": []
    },
    {
      "cell_type": "markdown",
      "source": [
        "---\n",
        "\n",
        "Use Cases of Sets\n",
        "\n",
        "1. Removing Duplicates: Convert a list to a set to remove duplicate items."
      ],
      "metadata": {
        "id": "z9Vd3bBV2E9_"
      }
    },
    {
      "cell_type": "code",
      "source": [
        "numbers = [1, 2, 2, 3]\n",
        "unique_numbers = set(numbers)  # {1, 2, 3}"
      ],
      "metadata": {
        "id": "0QfjTUP32IvN"
      },
      "execution_count": null,
      "outputs": []
    },
    {
      "cell_type": "markdown",
      "source": [
        "2. Membership Testing: Quickly check if an item exists in a collection."
      ],
      "metadata": {
        "id": "7yRrSgA22YEE"
      }
    },
    {
      "cell_type": "code",
      "source": [
        "vowels = {'a', 'e', 'i', 'o', 'u'}\n",
        "print('a' in vowels)  # Output: True"
      ],
      "metadata": {
        "id": "Eauul-W52aSL"
      },
      "execution_count": null,
      "outputs": []
    },
    {
      "cell_type": "markdown",
      "source": [
        "3. Set Operations: Perform union, intersection, and difference for mathematical or logical operations."
      ],
      "metadata": {
        "id": "Y0bzmzBT2duM"
      }
    },
    {
      "cell_type": "code",
      "source": [
        "A = {1, 2, 3}\n",
        "B = {3, 4, 5}\n",
        "print(A & B)  # Intersection: {3}"
      ],
      "metadata": {
        "id": "YrErqj6y2gJJ"
      },
      "execution_count": null,
      "outputs": []
    },
    {
      "cell_type": "markdown",
      "source": [
        "4. Unordered Collections: Use sets when order is not important, but uniqueness is."
      ],
      "metadata": {
        "id": "HYe7bOtz2g2_"
      }
    },
    {
      "cell_type": "code",
      "source": [
        "fruits = {'apple', 'banana', 'orange'}"
      ],
      "metadata": {
        "id": "4AZVmaBb2lTv"
      },
      "execution_count": null,
      "outputs": []
    },
    {
      "cell_type": "markdown",
      "source": [
        "Both tuples and sets are essential tools for specific tasks in Python programming, with tuples favoring fixed and structured data, and sets excelling in uniqueness and mathematical operations."
      ],
      "metadata": {
        "id": "X0G_RFDA2mWe"
      }
    },
    {
      "cell_type": "markdown",
      "source": [
        "QUESTION 7.describe how to add modify and delete item in a dictionary with examples\n",
        "\n",
        "Answer -Adding Items to a Dictionary\n",
        "\n",
        "Use a key-value pair to add a new item."
      ],
      "metadata": {
        "id": "lIwa8LsI5Bqe"
      }
    },
    {
      "cell_type": "code",
      "source": [
        "my_dict = {'name': 'Alice', 'age': 25}\n",
        "my_dict['city'] = 'New York'\n",
        "print(my_dict)  # Output: {'name': 'Alice', 'age': 25, 'city': 'New York'}"
      ],
      "metadata": {
        "id": "gWRChr8V5lIm"
      },
      "execution_count": null,
      "outputs": []
    },
    {
      "cell_type": "markdown",
      "source": [
        "---\n",
        "\n",
        "Modifying Items in a Dictionary\n",
        "\n",
        "Update the value of an existing key."
      ],
      "metadata": {
        "id": "k3_WIXT35mhc"
      }
    },
    {
      "cell_type": "code",
      "source": [
        "my_dict['age'] = 26\n",
        "print(my_dict)  # Output: {'name': 'Alice', 'age': 26, 'city': 'New York'}"
      ],
      "metadata": {
        "id": "RyYgKXwE5s98"
      },
      "execution_count": null,
      "outputs": []
    },
    {
      "cell_type": "markdown",
      "source": [
        "---\n",
        "\n",
        "Deleting Items from a Dictionary\n",
        "\n",
        "1. Delete a specific item using the del keyword."
      ],
      "metadata": {
        "id": "xtPUC2Gr5tJC"
      }
    },
    {
      "cell_type": "code",
      "source": [
        "del my_dict['city']\n",
        "print(my_dict)  # Output: {'name': 'Alice', 'age': 26}"
      ],
      "metadata": {
        "id": "mO1Awxlk5xCM"
      },
      "execution_count": null,
      "outputs": []
    },
    {
      "cell_type": "markdown",
      "source": [
        "2. Remove an item and get its value using pop()."
      ],
      "metadata": {
        "id": "X0dNVsZ95xPJ"
      }
    },
    {
      "cell_type": "code",
      "source": [
        "age = my_dict.pop('age')\n",
        "print(age)       # Output: 26\n",
        "print(my_dict)   # Output: {'name': 'Alice'}"
      ],
      "metadata": {
        "id": "_BmNwt0E50rW"
      },
      "execution_count": null,
      "outputs": []
    },
    {
      "cell_type": "markdown",
      "source": [
        "3. Clear all items using clear()."
      ],
      "metadata": {
        "id": "N7gzIL9I502p"
      }
    },
    {
      "cell_type": "code",
      "source": [
        "my_dict.clear()\n",
        "print(my_dict)  # Output: {}"
      ],
      "metadata": {
        "id": "gjC3bhyJ6Er0"
      },
      "execution_count": null,
      "outputs": []
    },
    {
      "cell_type": "markdown",
      "source": [
        "Dictionaries are flexible, allowing dynamic addition, modification, and deletion of key-value pairs."
      ],
      "metadata": {
        "id": "I46rv1aq6E_2"
      }
    },
    {
      "cell_type": "markdown",
      "source": [
        "QUESTION 8. Discuss the importance of dictionary keys being immutable and provide examples\n",
        "\n",
        "Answer -Importance of Immutable Dictionary Keys\n",
        "\n",
        "In Python, dictionary keys must be immutable (unchangeable) to ensure the integrity and reliability of the dictionary. This is because dictionaries use a hashing mechanism to store and retrieve values efficiently. If keys were mutable, their hash values could change, leading to unpredictable behavior.\n",
        "\n",
        "Key Points\n",
        "\n",
        "1. Hashing and Lookup Efficiency\n",
        "\n",
        "Immutable keys (e.g., strings, numbers, tuples) have consistent hash values, allowing fast lookups.\n",
        "\n",
        "Mutable keys (e.g., lists, sets) can change, which would disrupt the dictionary's internal structure.\n",
        "\n",
        "\n",
        "\n",
        "2. Data Integrity\n",
        "\n",
        "Using immutable keys ensures the key-value relationships remain consistent and accessible throughout the program.\n",
        "\n",
        "\n",
        "\n",
        "\n",
        "\n",
        "---\n",
        "\n",
        "Examples\n",
        "\n",
        "1. Immutable Keys (Valid)"
      ],
      "metadata": {
        "id": "C39sWsVA6ZGc"
      }
    },
    {
      "cell_type": "code",
      "source": [
        "my_dict = {\n",
        "    'name': 'Alice',  # String key\n",
        "    1: 'one',         # Integer key\n",
        "    (2, 3): 'tuple'   # Tuple key\n",
        "}\n",
        "print(my_dict['name'])  # Output: 'Alice'"
      ],
      "metadata": {
        "id": "hoMPn2Kf7HkI"
      },
      "execution_count": null,
      "outputs": []
    },
    {
      "cell_type": "markdown",
      "source": [
        "2. Mutable Keys (Invalid)"
      ],
      "metadata": {
        "id": "eq-YAnRg7H0n"
      }
    },
    {
      "cell_type": "code",
      "source": [
        "my_dict = {}\n",
        "my_key = [1, 2, 3]  # List (mutable)\n",
        "# my_dict[my_key] = 'value'  # Raises TypeError: unhashable type: 'list'"
      ],
      "metadata": {
        "id": "Be4s83fa7JxU"
      },
      "execution_count": null,
      "outputs": []
    },
    {
      "cell_type": "markdown",
      "source": [
        "3. Using Tuples Instead of Lists\n",
        "\n",
        "If the data needs to resemble a list but be immutable, use a tuple."
      ],
      "metadata": {
        "id": "Ef2SA3AJ7J6v"
      }
    },
    {
      "cell_type": "code",
      "source": [
        "my_dict = {}\n",
        "my_key = (1, 2, 3)  # Tuple (immutable)\n",
        "my_dict[my_key] = 'value'\n",
        "print(my_dict)  # Output: {(1, 2, 3): 'value'}"
      ],
      "metadata": {
        "id": "typpszFz7NmD"
      },
      "execution_count": null,
      "outputs": []
    },
    {
      "cell_type": "markdown",
      "source": [
        "Conclusion\n",
        "\n",
        "Using immutable keys ensures dictionaries are reliable and efficient. Always choose immutable types like strings, numbers, or tuples for dictionary keys."
      ],
      "metadata": {
        "id": "PwO_SICl7NyV"
      }
    }
  ]
}